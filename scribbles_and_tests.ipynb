{
 "cells": [
  {
   "cell_type": "code",
   "execution_count": 5,
   "metadata": {},
   "outputs": [],
   "source": [
    "import pandas as pd\n",
    "import numpy as np\n",
    "from data_model_sources import get_hospital_data, get_hospital_logistic_model\n",
    "import counterfactual as cf\n",
    "import autoreload\n",
    "%load_ext autoreload\n",
    "%autoreload 2"
   ]
  },
  {
   "cell_type": "code",
   "execution_count": 2,
   "metadata": {
    "scrolled": true
   },
   "outputs": [
    {
     "name": "stdout",
     "output_type": "stream",
     "text": [
      "train_score: 0.6332360423992018\n",
      "test_score: 0.6369867410802317\n",
      "train_score: 0.6374109832042227\n",
      "test_score: 0.6291169431550999\n",
      "train_score: 0.6340420664230689\n",
      "test_score: 0.6364999562212492\n"
     ]
    }
   ],
   "source": [
    "x_data, y_data = get_hospital_data()\n",
    "x_data = x_data.iloc[:, :31]\n",
    "clf, scaler = get_hospital_logistic_model(x_data, y_data)"
   ]
  },
  {
   "cell_type": "code",
   "execution_count": 3,
   "metadata": {},
   "outputs": [
    {
     "data": {
      "text/html": [
       "<div>\n",
       "<style scoped>\n",
       "    .dataframe tbody tr th:only-of-type {\n",
       "        vertical-align: middle;\n",
       "    }\n",
       "\n",
       "    .dataframe tbody tr th {\n",
       "        vertical-align: top;\n",
       "    }\n",
       "\n",
       "    .dataframe thead th {\n",
       "        text-align: right;\n",
       "    }\n",
       "</style>\n",
       "<table border=\"1\" class=\"dataframe\">\n",
       "  <thead>\n",
       "    <tr style=\"text-align: right;\">\n",
       "      <th></th>\n",
       "      <th>name</th>\n",
       "      <th>feature_type</th>\n",
       "      <th>distance_weight</th>\n",
       "      <th>u_bound</th>\n",
       "      <th>l_bound</th>\n",
       "      <th>multicat_possible_values</th>\n",
       "    </tr>\n",
       "  </thead>\n",
       "  <tbody>\n",
       "    <tr>\n",
       "      <th>0</th>\n",
       "      <td>income</td>\n",
       "      <td>cont</td>\n",
       "      <td>1</td>\n",
       "      <td>NaN</td>\n",
       "      <td>0.0</td>\n",
       "      <td>NaN</td>\n",
       "    </tr>\n",
       "    <tr>\n",
       "      <th>1</th>\n",
       "      <td>occpuation</td>\n",
       "      <td>multicat</td>\n",
       "      <td>2</td>\n",
       "      <td>NaN</td>\n",
       "      <td>NaN</td>\n",
       "      <td>[astronaut, baker, chef]</td>\n",
       "    </tr>\n",
       "  </tbody>\n",
       "</table>\n",
       "</div>"
      ],
      "text/plain": [
       "         name feature_type distance_weight  u_bound  l_bound  \\\n",
       "0      income         cont               1      NaN      0.0   \n",
       "1  occpuation     multicat               2      NaN      NaN   \n",
       "\n",
       "   multicat_possible_values  \n",
       "0                       NaN  \n",
       "1  [astronaut, baker, chef]  "
      ]
     },
     "execution_count": 3,
     "metadata": {},
     "output_type": "execute_result"
    }
   ],
   "source": [
    "df_features_attrs_test = pd.DataFrame(columns=[\n",
    "    'name', 'feature_type', 'distance_weight', 'u_bound', 'l_bound',\n",
    "    'multicat_possible_values'\n",
    "])\n",
    "df_features_attrs_test = df_features_attrs_test.append([\n",
    "    {\n",
    "        'name': 'income',\n",
    "        'feature_type': 'cont',\n",
    "        'distance_weight': 1,\n",
    "        'u_bound': np.NaN,\n",
    "        'l_bound': 0,\n",
    "        'multicat_possible_values': np.NaN\n",
    "    },\n",
    "    {\n",
    "        'name': 'occpuation',\n",
    "        'feature_type': 'multicat',\n",
    "        'distance_weight': 2,\n",
    "        'u_bound': np.NaN,\n",
    "        'l_bound': np.NaN,\n",
    "        'multicat_possible_values': ['astronaut', 'baker', 'chef']\n",
    "    }\n",
    "])\n",
    "df_features_attrs_test"
   ]
  },
  {
   "cell_type": "code",
   "execution_count": 14,
   "metadata": {
    "scrolled": true
   },
   "outputs": [],
   "source": [
    "initial_vals_mock = pd.Series({0: 50000, 1: 'baker'})\n",
    "dia = cf.Diamond(initial_vals_mock, 0.1, df_features_attrs_test)"
   ]
  },
  {
   "cell_type": "code",
   "execution_count": 18,
   "metadata": {},
   "outputs": [
    {
     "data": {
      "text/plain": [
       "1    baker\n",
       "dtype: object"
      ]
     },
     "execution_count": 18,
     "metadata": {},
     "output_type": "execute_result"
    }
   ],
   "source": [
    "dia.initial_vals[dia.multicat_features]"
   ]
  },
  {
   "cell_type": "code",
   "execution_count": null,
   "metadata": {},
   "outputs": [],
   "source": [
    "dia.initial_vals.copy"
   ]
  }
 ],
 "metadata": {
  "kernelspec": {
   "display_name": "Python 3",
   "language": "python",
   "name": "python3"
  },
  "language_info": {
   "codemirror_mode": {
    "name": "ipython",
    "version": 3
   },
   "file_extension": ".py",
   "mimetype": "text/x-python",
   "name": "python",
   "nbconvert_exporter": "python",
   "pygments_lexer": "ipython3",
   "version": "3.6.5"
  }
 },
 "nbformat": 4,
 "nbformat_minor": 2
}
